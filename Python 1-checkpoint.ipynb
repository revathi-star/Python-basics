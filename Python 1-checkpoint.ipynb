{
 "cells": [
  {
   "cell_type": "markdown",
   "id": "682c7bf7-e37e-4363-ad02-5aae5d12efaa",
   "metadata": {},
   "source": [
    "**operators**"
   ]
  },
  {
   "cell_type": "markdown",
   "id": "c56005e7-d594-4bf5-a002-a8da3269fdeb",
   "metadata": {},
   "source": [
    "1. Assignment operators- '=','+=','-=','*=','/=' , exmaple:a+=2 implies a=a+2\n",
    "2. comparison operators- <,>,<=,>=,==,!=\n",
    "3. Logical operators- AND, OR, NOT , #Precedence- **NAO**\n",
    "4. Arithmetic operator - (+-,*,/) #Precedence-BODMAS\n",
    "5. mod operator **%** - a%b - gives the rema inder when a is divided by b\n",
    "6. //- **floor division** - a//b - gives the GIF(greatest integer less than or equal to) of the answer when a is divided by b"
   ]
  },
  {
   "cell_type": "code",
   "execution_count": 11,
   "id": "0d52cbe4-e5eb-428e-8b55-2afb6e2f40bb",
   "metadata": {},
   "outputs": [
    {
     "data": {
      "text/plain": [
       "1"
      ]
     },
     "execution_count": 11,
     "metadata": {},
     "output_type": "execute_result"
    }
   ],
   "source": [
    "int(not False and True or False)\n",
    "#int(True)==1, and int(False)==0"
   ]
  },
  {
   "cell_type": "markdown",
   "id": "c70d237f-0196-4a18-aab2-1cdb0b2eaac4",
   "metadata": {},
   "source": [
    "* and function behaves like minimum \n",
    "* or function behaves as maximum"
   ]
  },
  {
   "cell_type": "code",
   "execution_count": 1,
   "id": "8d23fde4-cac1-433c-8461-56f2ff0987b4",
   "metadata": {},
   "outputs": [
    {
     "name": "stdout",
     "output_type": "stream",
     "text": [
      "11\n"
     ]
    }
   ],
   "source": [
    "a=5\n",
    "b=6\n",
    "print(a+b)"
   ]
  },
  {
   "cell_type": "raw",
   "id": "acf26840-cc77-4331-b2a9-aeb007e1154f",
   "metadata": {},
   "source": [
    "operators consist of code and all \n",
    "it has variables and operators\n",
    "examples- addition operator\n"
   ]
  },
  {
   "cell_type": "markdown",
   "id": "b20be7c0-c9d0-4041-96e0-b4cafc9c0a17",
   "metadata": {},
   "source": [
    "**String Numbering**\n",
    "0,1,2,3,4,5,6,7,8,9,10 and so on....\n",
    "# String Slicing [start:end:step]\n",
    "* Start is included, end is not included, The step parameter is used to specify the steps to take from start to end index."
   ]
  },
  {
   "cell_type": "markdown",
   "id": "299994a4-2a15-4a43-a73d-28245c02dbf6",
   "metadata": {},
   "source": [
    "**Dynamic Typing**"
   ]
  },
  {
   "cell_type": "code",
   "execution_count": 1,
   "id": "941b95d1-8c4f-4155-8df4-7c1c11f1a62f",
   "metadata": {},
   "outputs": [
    {
     "name": "stdout",
     "output_type": "stream",
     "text": [
      "<class 'int'>\n",
      "<class 'str'>\n"
     ]
    }
   ],
   "source": [
    "a=10 #Integer\n",
    "print(type(a))\n",
    "a='Hello' ##String\n",
    "print(type(a))\n",
    "#Change the type manually- dynamic nature of variable type in python"
   ]
  },
  {
   "cell_type": "markdown",
   "id": "dedab2ca-3839-471e-a4ff-ff18a8ac2fdb",
   "metadata": {},
   "source": [
    "**Type conversion**"
   ]
  },
  {
   "cell_type": "code",
   "execution_count": 12,
   "id": "79f3cd30-e747-4b75-accf-365425db7245",
   "metadata": {},
   "outputs": [
    {
     "name": "stdout",
     "output_type": "stream",
     "text": [
      "0\n"
     ]
    }
   ],
   "source": [
    "#explicit\n",
    "x=False\n",
    "print(int(x))"
   ]
  },
  {
   "cell_type": "code",
   "execution_count": 13,
   "id": "50bea776-8f98-4c6e-b7db-1386d680b868",
   "metadata": {},
   "outputs": [
    {
     "name": "stdout",
     "output_type": "stream",
     "text": [
      "<class 'float'>\n"
     ]
    }
   ],
   "source": [
    "#implicit\n",
    "x=2\n",
    "y=3.5\n",
    "print(type(x*y))"
   ]
  },
  {
   "cell_type": "markdown",
   "id": "f49735c8-7108-44ad-83ed-45c07f650baa",
   "metadata": {},
   "source": [
    "**F-Strings**"
   ]
  },
  {
   "cell_type": "code",
   "execution_count": 15,
   "id": "2777e5ae-d5a0-4a5a-a452-4aa01817ec91",
   "metadata": {},
   "outputs": [
    {
     "name": "stdout",
     "output_type": "stream",
     "text": [
      "write something and insert something 35\n"
     ]
    }
   ],
   "source": [
    "var=35\n",
    "s=f'write something and insert something {var}'\n",
    "print(s)"
   ]
  },
  {
   "cell_type": "code",
   "execution_count": 18,
   "id": "20388b56-2227-4a78-9c5e-ed43c6b9804e",
   "metadata": {},
   "outputs": [
    {
     "name": "stdout",
     "output_type": "stream",
     "text": [
      "6\n"
     ]
    }
   ],
   "source": [
    "# write the function my_max(a,b,c) which returns the maximum value without using the \n",
    "#function max\n",
    "def my_max(a,b,c):\n",
    "     if a>b and a>c: return a\n",
    "     elif b>c : return b\n",
    "     else: return c\n",
    "print(my_max(5,4,6))"
   ]
  }
 ],
 "metadata": {
  "kernelspec": {
   "display_name": "Python 3 (ipykernel)",
   "language": "python",
   "name": "python3"
  },
  "language_info": {
   "codemirror_mode": {
    "name": "ipython",
    "version": 3
   },
   "file_extension": ".py",
   "mimetype": "text/x-python",
   "name": "python",
   "nbconvert_exporter": "python",
   "pygments_lexer": "ipython3",
   "version": "3.12.3"
  }
 },
 "nbformat": 4,
 "nbformat_minor": 5
}
