{
 "cells": [
  {
   "cell_type": "markdown",
   "id": "77a296b8-3d59-4210-8439-2d3a24efc14a",
   "metadata": {},
   "source": [
    "**List** is an ordered collection and mutable \n",
    "List[]\n",
    "indexing same as string(except strings arent mutable)\n",
    "mutability means we can change the value at specific index\n",
    "can be recursive (we can have lists inside a list)"
   ]
  },
  {
   "cell_type": "code",
   "execution_count": 7,
   "id": "3be541a5-5007-49eb-86fe-fdaf86ce34e7",
   "metadata": {},
   "outputs": [
    {
     "name": "stdout",
     "output_type": "stream",
     "text": [
      "4\n",
      "4\n"
     ]
    }
   ],
   "source": [
    "l=[2,3,4,6,10,'hello',[3,4]]\n",
    "print(l[2])\n",
    "print(l[-1][1])"
   ]
  },
  {
   "cell_type": "code",
   "execution_count": 9,
   "id": "cbfb7441-69f6-43b7-bd7f-36d9d80a71fc",
   "metadata": {},
   "outputs": [
    {
     "name": "stdout",
     "output_type": "stream",
     "text": [
      "Revathi\n"
     ]
    }
   ],
   "source": [
    "l.append('Revathi')\n",
    "print(l[-1])"
   ]
  },
  {
   "cell_type": "markdown",
   "id": "6e6e836a-bff8-4f3f-a621-272729d5c84c",
   "metadata": {},
   "source": [
    "**Dictionary** can have any index (need not be integer), they are called keys\n",
    "Access by key:value pair dict['name']=='Value'\n",
    "Dictionaries are mutable(values can be changed, keys can be deleted)"
   ]
  },
  {
   "cell_type": "code",
   "execution_count": 11,
   "id": "f686f5bb-5c62-46d9-a2b9-638863ec9671",
   "metadata": {},
   "outputs": [
    {
     "name": "stdout",
     "output_type": "stream",
     "text": [
      "18\n",
      "dict_keys(['name', 'age'])\n",
      "dict_values(['Revathi', 18])\n",
      "dict_items([('name', 'Revathi'), ('age', 18)])\n"
     ]
    }
   ],
   "source": [
    "d={'name':'Revathi','age':18}\n",
    "print(d['age'])\n",
    "print(d.keys())\n",
    "print(d.values())\n",
    "print(d.items())"
   ]
  },
  {
   "cell_type": "markdown",
   "id": "ff1abfc5-1820-4a3b-a714-63bf17fdce13",
   "metadata": {},
   "source": [
    "**Tuples** are immutable, integer indexed and ordered collections\n",
    "Immutable(elements cant be modified/added/removed)\n",
    "ex- t=(1,2,3,'hello')"
   ]
  },
  {
   "cell_type": "code",
   "execution_count": 13,
   "id": "14f70577-a1d1-4d0c-9c73-5d48e919d48a",
   "metadata": {},
   "outputs": [
    {
     "name": "stdout",
     "output_type": "stream",
     "text": [
      "hello\n"
     ]
    }
   ],
   "source": [
    "t=(1,2,3,'hello')\n",
    "print(t[3])"
   ]
  },
  {
   "cell_type": "code",
   "execution_count": 15,
   "id": "141d58cd-23b6-4717-9366-6931920a4ee1",
   "metadata": {},
   "outputs": [
    {
     "ename": "TypeError",
     "evalue": "'tuple' object does not support item assignment",
     "output_type": "error",
     "traceback": [
      "\u001b[1;31m---------------------------------------------------------------------------\u001b[0m",
      "\u001b[1;31mTypeError\u001b[0m                                 Traceback (most recent call last)",
      "Cell \u001b[1;32mIn[15], line 1\u001b[0m\n\u001b[1;32m----> 1\u001b[0m t[\u001b[38;5;241m3\u001b[39m]\u001b[38;5;241m=\u001b[39m\u001b[38;5;241m4\u001b[39m\n",
      "\u001b[1;31mTypeError\u001b[0m: 'tuple' object does not support item assignment"
     ]
    }
   ],
   "source": [
    "t[3]=4 #tupples are not mutable"
   ]
  },
  {
   "cell_type": "markdown",
   "id": "0255626c-bc57-47f9-a3bc-31f37ce9b904",
   "metadata": {},
   "source": [
    "**Control Flows**\n",
    "flow-the sequence, control-what sequence\n",
    "1.Conditional statement\n",
    "2.Looping\n",
    "*Conditional statement*- given a condition, if true do something , if false do something else\n",
    "example- if -> elif -> else"
   ]
  },
  {
   "cell_type": "code",
   "execution_count": 28,
   "id": "c476c62f-1baf-42d3-8510-09c8c4d0bd42",
   "metadata": {},
   "outputs": [
    {
     "name": "stdin",
     "output_type": "stream",
     "text": [
      " 4\n"
     ]
    },
    {
     "name": "stdout",
     "output_type": "stream",
     "text": [
      "positive even\n"
     ]
    }
   ],
   "source": [
    "x=int(input())\n",
    "if x>0:\n",
    "    if x%2==0 :print('positive even')\n",
    "    else: print('positive odd')\n",
    "elif x==0: print('zero')\n",
    "else: print('negative')"
   ]
  },
  {
   "cell_type": "markdown",
   "id": "e29ffef0-2bfe-41f3-a470-32de73eb4415",
   "metadata": {},
   "source": [
    "*Looping*\n",
    "1.for loop - for finite loops\n",
    "  for i in range(start,stop,step)\n",
    "  end at stop-1\n",
    "  range(10)==[0,10]==range(0,11,1)\n",
    "  range(0,10)==[0,9]\n",
    "2. while loop - for infinite loops"
   ]
  },
  {
   "cell_type": "code",
   "execution_count": 5,
   "id": "f8a3b5ab-e640-4fb7-aa34-ec2914e2a5c8",
   "metadata": {},
   "outputs": [
    {
     "name": "stdout",
     "output_type": "stream",
     "text": [
      "negative\n",
      "negative\n",
      "negative\n",
      "zero\n",
      "positive odd\n",
      "positive even\n"
     ]
    }
   ],
   "source": [
    "for x in range(-3,3,1):\n",
    "    if x>0:\n",
    "        if x%2==0 :print('positive even')\n",
    "        else: print('positive odd')\n",
    "    elif x==0: print('zero')\n",
    "    else: print('negative')"
   ]
  },
  {
   "cell_type": "code",
   "execution_count": 7,
   "id": "86d056f3-e998-4ae6-98d3-0906063872f9",
   "metadata": {},
   "outputs": [
    {
     "name": "stdout",
     "output_type": "stream",
     "text": [
      "1\n",
      "2\n",
      "3\n",
      "4\n",
      "5\n"
     ]
    }
   ],
   "source": [
    "i = 1\n",
    "while i < 6:\n",
    "  print(i)\n",
    "  i += 1"
   ]
  },
  {
   "cell_type": "markdown",
   "id": "51b62a6a-b007-4271-a734-fb3bcff4dfe6",
   "metadata": {},
   "source": [
    "**Functions**\n",
    "Has the syntax, parameters and body"
   ]
  },
  {
   "cell_type": "code",
   "execution_count": 9,
   "id": "097d7c4a-e4c6-4172-add2-59aaafb5af77",
   "metadata": {},
   "outputs": [
    {
     "name": "stdout",
     "output_type": "stream",
     "text": [
      "15 50\n"
     ]
    }
   ],
   "source": [
    "def fun(a,b):\n",
    "    sum=a+b\n",
    "    prod=a*b\n",
    "    print(sum,prod)\n",
    "fun(5,10)"
   ]
  },
  {
   "cell_type": "markdown",
   "id": "6dd68aaf-ae47-420b-aa7f-01a28239b3a8",
   "metadata": {},
   "source": [
    "**Modules**\n",
    "set of standardised parts/units, in python- it is a collection of functions\n",
    "We create a module.py(on a separate server) by defining a number of functions together\n",
    "then in an actual code environment we import a module and deploy it\n",
    "before importing, pip install <module>"
   ]
  },
  {
   "cell_type": "markdown",
   "id": "7615dd96-7cbf-4149-a70b-ceb91c80d88a",
   "metadata": {},
   "source": [
    "**Debugging or Exception Handling**\n",
    "try - except - finally\n",
    "try:\n",
    "  <'can give me an error'>\n",
    "except: <error1>:<doSomething>\n",
    "except: <error2>:<doSomething>\n",
    ".\n",
    "...\n",
    "finally: <doSomething>"
   ]
  },
  {
   "cell_type": "markdown",
   "id": "8d247649-f60e-4a07-b733-2bd9bdd09944",
   "metadata": {},
   "source": [
    "def div(n,m):\n",
    "    try:\n",
    "        x=n/m\n",
    "        return x\n",
    "    except ZeroDivisonError:\n",
    "         x='Make me valid'\n",
    "         return x\n",
    "div(5,5)\n",
    "div(5,0)"
   ]
  },
  {
   "cell_type": "markdown",
   "id": "d61b69f8-e77e-4f29-9fa6-3cc95cf5d579",
   "metadata": {},
   "source": [
    "**Recursion**\n",
    "a function calling itself again and again\n",
    "'This statement is False'\n",
    "ఇది అబద్ధం అనేది నిజం\n",
    "<HumanLanguagesAreAmbiguous>"
   ]
  },
  {
   "cell_type": "markdown",
   "id": "4e23b620-744d-4e63-a425-d7fd7761149f",
   "metadata": {},
   "source": [
    "*FibeSequence*\n",
    "f1=0, f2=1\n",
    "fn=f(n-1)+f(n-2)"
   ]
  },
  {
   "cell_type": "code",
   "execution_count": 51,
   "id": "589aafcd-0f00-4add-a35b-504938566639",
   "metadata": {},
   "outputs": [
    {
     "data": {
      "text/plain": [
       "5"
      ]
     },
     "execution_count": 51,
     "metadata": {},
     "output_type": "execute_result"
    }
   ],
   "source": [
    "def fib(n):\n",
    "    if n==1:\n",
    "        return 0\n",
    "    elif n==2:\n",
    "        return 1\n",
    "    else:\n",
    "        return fib(n-1)+fib(n-2)\n",
    "fib(5)"
   ]
  }
 ],
 "metadata": {
  "kernelspec": {
   "display_name": "Python [conda env:base] *",
   "language": "python",
   "name": "conda-base-py"
  },
  "language_info": {
   "codemirror_mode": {
    "name": "ipython",
    "version": 3
   },
   "file_extension": ".py",
   "mimetype": "text/x-python",
   "name": "python",
   "nbconvert_exporter": "python",
   "pygments_lexer": "ipython3",
   "version": "3.12.7"
  }
 },
 "nbformat": 4,
 "nbformat_minor": 5
}
