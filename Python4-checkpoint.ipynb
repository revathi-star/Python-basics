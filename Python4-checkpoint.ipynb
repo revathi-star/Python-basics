{
 "cells": [
  {
   "cell_type": "code",
   "execution_count": null,
   "id": "665fcbe9-1abf-4b02-92a6-9325553d3911",
   "metadata": {},
   "outputs": [],
   "source": [
    "**File Handling**\n",
    "file- stores data and document- 2 types-Text and Binary\n",
    "1.Binary-Machine Readable format\n",
    "2.Text-txt,csv,json\n",
    "file systems- method used by OS to store, organise, and manage files->>File Handling"
   ]
  },
  {
   "cell_type": "markdown",
   "id": "8321f49c-8661-4d73-9363-14a826181620",
   "metadata": {},
   "source": [
    "**Dealing with txt file**"
   ]
  },
  {
   "cell_type": "code",
   "execution_count": null,
   "id": "5250c76d-e607-416d-9114-fdb08920ebad",
   "metadata": {},
   "outputs": [],
   "source": [
    "**File Handling in Python**\n",
    "SYNTAX-\n",
    "<variable>=open('filename','mode') # arguments are str #helps to create file object\n",
    "# file name can also be a directory\n",
    "eg- f=open('Marksk','r') # r-reading mode\n",
    "## different kinds of modes to open files\n",
    " mode('put in quote')--fxn--what if the file dosent exist\n",
    "1. r -- read mode (default) -- file needs to exist else error\n",
    "2. w -- write mode -- if exist'overwrite', else creates a new file with same name\n",
    "3. a -- append mode -- if exists 'continues and writes', else creates a new file with same name(updates the file)\n",
    "4. r+ -- read and write -- file must exist\n",
    "5. w+ -- reads and writes -- if exists overwrite\n",
    "6. a+ -- read and append -- if exists 'continues and writes', else creates a new file with same name(updates the file)"
   ]
  },
  {
   "cell_type": "code",
   "execution_count": null,
   "id": "f44f49c3-7c40-4dc6-99df-e8f1e97fac98",
   "metadata": {},
   "outputs": [],
   "source": [
    "**Reading a file** - r,r+,w+,a+\n",
    "1. read()- reads the whole content-L1\\nL2\\nL3\\n\n",
    "2. readline()- reads one line- L1\n",
    "3. readlines()- reads all lines and stores them in list-[L1,L2,...L10]\n",
    "*SYNTAX* f=open('txt')\n",
    "data1=f.read()\n",
    "data2=f.readline()\n",
    "data3=f.readlines()        "
   ]
  },
  {
   "cell_type": "code",
   "execution_count": null,
   "id": "aad491b1-bc16-4bb0-960b-7171709dbabc",
   "metadata": {},
   "outputs": [],
   "source": [
    "**Writing in a file**-w,w+- can be used on w,a,r+,w+,a+\n",
    "1. write()\n",
    "2. writelines()\n",
    "*SYNTAX*- f=open('txt','w')\n",
    "f.write('') # input is  a string\n",
    "f.writelines(['','','']) # input is  a list of strings\n",
    "f.close()"
   ]
  },
  {
   "cell_type": "markdown",
   "id": "7daf44e1-5862-48a6-b966-7268a54e8442",
   "metadata": {},
   "source": [
    "# For append modes, same fxns applies but it writes from where you ended"
   ]
  },
  {
   "cell_type": "markdown",
   "id": "4585eb06-f3d6-4ef9-bbd0-a56092805643",
   "metadata": {},
   "source": [
    "**Dealing with .csv file**- comma separated values"
   ]
  },
  {
   "cell_type": "code",
   "execution_count": null,
   "id": "4c83c385-43f9-4906-a650-09cfc18ef9cf",
   "metadata": {},
   "outputs": [],
   "source": [
    "import csv (was not required for .txt file)\n",
    "new way to open a file-\n",
    "with open('data.csv') as f\n",
    "#later do all the required tasks in the following body"
   ]
  },
  {
   "cell_type": "code",
   "execution_count": null,
   "id": "940947b9-ec0c-4a5b-8f6f-6a2e85c0fd2a",
   "metadata": {},
   "outputs": [],
   "source": [
    "**Reading**\n",
    "import csv\n",
    "with open('sample.csv') as f:\n",
    "r=csv.reader(f)\n",
    "print(r)"
   ]
  },
  {
   "cell_type": "code",
   "execution_count": null,
   "id": "b670161c-e612-458a-83c6-279e7cbbefb6",
   "metadata": {},
   "outputs": [],
   "source": [
    "**Writing**\n",
    "import csv\n",
    "with open('sample.csv') as f: \n",
    "w=csv.writer(f)\n",
    "w.writerow(['','',''...]) #list of strings"
   ]
  },
  {
   "cell_type": "code",
   "execution_count": null,
   "id": "e23392a0-89f9-4382-9a8a-75a8a5d2c483",
   "metadata": {},
   "outputs": [],
   "source": [
    "**Dealing with .json file**-JavaScript Object Notation\n",
    "# Reading\n",
    "import jsov\n",
    "with open('H.json') as f\n",
    "d=json.load(f)\n",
    "print(d)\n",
    "# Writing\n",
    "import json\n",
    "data={'name':'Revathi','city':'Chennai'}\n",
    "with open('H.json','w') as f\n",
    "json.dump(data)"
   ]
  }
 ],
 "metadata": {
  "kernelspec": {
   "display_name": "Python [conda env:base] *",
   "language": "python",
   "name": "conda-base-py"
  },
  "language_info": {
   "codemirror_mode": {
    "name": "ipython",
    "version": 3
   },
   "file_extension": ".py",
   "mimetype": "text/x-python",
   "name": "python",
   "nbconvert_exporter": "python",
   "pygments_lexer": "ipython3",
   "version": "3.12.7"
  }
 },
 "nbformat": 4,
 "nbformat_minor": 5
}
