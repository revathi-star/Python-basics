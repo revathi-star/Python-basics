{
 "cells": [
  {
   "cell_type": "markdown",
   "id": "c6a8be9e-0396-421e-b73e-2724794d8b28",
   "metadata": {},
   "source": [
    "**Flask**\n",
    "software that incorporates phython so that one can make their own website.(can be accessed and edited quickly using flask)"
   ]
  },
  {
   "cell_type": "markdown",
   "id": "26f3e56e-f43d-48c5-9736-ee3783a916b3",
   "metadata": {},
   "source": [
    "**Why use Flask for web development**\n",
    "Lightweight: Does not impose a lot of dependencies.\n",
    "\n",
    "Flexible: You can use only what you need.\n",
    "\n",
    "Extensible: Supports many third-party extensions.\n",
    "\n",
    "Easy to learn: Simple syntax, great for beginners. Works well with AI & ML models: Can integrate easily with Python-based AI models."
   ]
  },
  {
   "cell_type": "markdown",
   "id": "93386931-c63b-432c-9aa1-88446e3b662e",
   "metadata": {},
   "source": [
    "**How Flask Works (Request-Response Cycle)**\n",
    "1.The client (browser, API consumer) sends an HTTP request to the Flask application.\n",
    "\n",
    "2.Flask receives the request and processes it through defined routes.\n",
    "\n",
    "3.The appropriate function executes and generates a response.\n",
    "\n",
    "4.The response is sent back to the client."
   ]
  },
  {
   "cell_type": "code",
   "execution_count": null,
   "id": "a558032c-dc67-49f6-9d9a-c339d59002ec",
   "metadata": {},
   "outputs": [],
   "source": [
    "#Installing Flask \n",
    "!pip install pyngrok"
   ]
  },
  {
   "cell_type": "code",
   "execution_count": null,
   "id": "b9559ff9-971b-4571-a9ad-911feb3be5ca",
   "metadata": {},
   "outputs": [],
   "source": [
    "!pip install flask flask-ngrok"
   ]
  },
  {
   "cell_type": "markdown",
   "id": "c097785e-faef-4361-85e7-f13b796ebaed",
   "metadata": {},
   "source": [
    "**Project Structure of a Flask App**\n",
    "A typical Flask project consists of:\n",
    "\n",
    "1.app.py – Main application file.\n",
    "\n",
    "2.templates/ – Stores HTML files for rendering pages.\n",
    "\n",
    "3.static/ – Stores CSS, JavaScript, images.\n",
    "\n",
    "4.views.py – Contains route definitions."
   ]
  },
  {
   "cell_type": "markdown",
   "id": "a88f0271-2f22-4610-8807-791bc59b57f4",
   "metadata": {},
   "source": [
    "Go to the website-https://ngrok.com/, login and then go to dashboard where you will have an authentication token which we can use on collab and jupyter"
   ]
  },
  {
   "cell_type": "code",
   "execution_count": null,
   "id": "2269d3dd-ddfb-4ba5-ab41-0187039b0724",
   "metadata": {},
   "outputs": [],
   "source": [
    "!ngrok config add-authtoken \"2uVJ8MSQ3hlfQzkLzt0vnGRxemv_2j8DEQ5sFQ57g5mGw3Xm5\"\n",
    "'''Enclosed in quotes is the authentication token'''\n",
    "#we use ngrok so that the flask library can be downloaded on platforms like Google Collab and Jupyter which differ from local systems"
   ]
  },
  {
   "cell_type": "code",
   "execution_count": null,
   "id": "6ec16ab4-b3fc-49c7-8c6d-4838bb4399d3",
   "metadata": {},
   "outputs": [],
   "source": [
    "from flask import Flask\n",
    "from flask_ngrok import run_with_ngrok\n",
    "from pyngrok import ngrok\n",
    "app = Flask(__name__)\n",
    "run_with_ngrok(app)  # Exposes the app to a public URL, ngrok helps us to access the website even if the program is not in your local system"
   ]
  },
  {
   "cell_type": "markdown",
   "id": "c6fa223e-b569-4667-bb11-a3419e7413e4",
   "metadata": {},
   "source": [
    "**Basic Flask App**"
   ]
  },
  {
   "cell_type": "code",
   "execution_count": null,
   "id": "04727217-5c36-4e7b-9f4a-59377dfa3e7b",
   "metadata": {},
   "outputs": [],
   "source": [
    "app = Flask(__name__)\n",
    "run_with_ngrok(app)\n",
    "\n",
    "@app.route('/')\n",
    "def home():\n",
    "    return \"Hello, Flask running on Jupyter notebook!\"\n",
    "\n",
    "# Start Flask app and expose it via ngrok\n",
    "public_url = ngrok.connect(5000)  # Expose port 5000\n",
    "print(f\"Public URL: {public_url}\")  # Print the ngrok public URL\n",
    "\n",
    "app.run()\n"
   ]
  },
  {
   "cell_type": "code",
   "execution_count": null,
   "id": "e56e971d-0d9a-4513-a880-11366d7085b8",
   "metadata": {},
   "outputs": [],
   "source": [
    "!ngrok config add-authtoken '2uVJ8MSQ3hlfQzkLztOvnGRxemv_2j8DEQ5sfQS7g5mGw3Xm5'\n"
   ]
  },
  {
   "cell_type": "code",
   "execution_count": null,
   "id": "09901165-52be-4d5d-a8f4-28092393b648",
   "metadata": {},
   "outputs": [],
   "source": [
    "from pyngrok import ngrok\n",
    "public_url = ngrok.connect(5000)  # Expose port 5000\n",
    "print(f\"Access your app here: {public_url}\")\n",
    "app.run(port=5000)"
   ]
  },
  {
   "cell_type": "code",
   "execution_count": null,
   "id": "17baa950-90f0-483b-972e-1bdcc43627f4",
   "metadata": {},
   "outputs": [],
   "source": []
  }
 ],
 "metadata": {
  "kernelspec": {
   "display_name": "Python [conda env:base] *",
   "language": "python",
   "name": "conda-base-py"
  },
  "language_info": {
   "codemirror_mode": {
    "name": "ipython",
    "version": 3
   },
   "file_extension": ".py",
   "mimetype": "text/x-python",
   "name": "python",
   "nbconvert_exporter": "python",
   "pygments_lexer": "ipython3",
   "version": "3.12.7"
  }
 },
 "nbformat": 4,
 "nbformat_minor": 5
}
