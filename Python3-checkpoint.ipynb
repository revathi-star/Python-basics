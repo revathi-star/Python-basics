{
 "cells": [
  {
   "cell_type": "markdown",
   "id": "3bc513fb-a384-44f2-9d46-ccff3605683d",
   "metadata": {},
   "source": [
    "**Programming Paradigm**\n",
    "way to conceptualize or structure the code\n",
    "of 3 types- imperative, declarative, concurrent\n",
    "*Imperative*- procedural OOPS(class,prototype)\n",
    "*Declarative*- functional(Haskell)\n",
    "*concurrent*"
   ]
  },
  {
   "cell_type": "markdown",
   "id": "a6356a6e-2fac-4a38-b695-af8713d8212c",
   "metadata": {},
   "source": [
    "**OOPS**-Obect Oriented Programming System\n",
    "you organize your design around objects (instead of functions)\n",
    "objects- data(attributes),methods/fxn/behaviour\n",
    "*Key benefits*\n",
    "Reusability-can use it again and again\n",
    "Scalability-can increase the scale\n",
    "Modularity\n",
    "Safety\n",
    "*Key Principles*\n",
    "Inheritance, Polymorphism,Encapsulism, Abstarction"
   ]
  },
  {
   "cell_type": "markdown",
   "id": "fea8f823-b8c3-4e23-9b5c-fd9bd39d6d0d",
   "metadata": {},
   "source": [
    "class-blueprint for objects\n",
    "obect-instance of a class"
   ]
  },
  {
   "cell_type": "markdown",
   "id": "7e8672b7-61fc-4c0d-aa45-4309ea13bc4b",
   "metadata": {},
   "source": [
    "**Inheritance**- Helps you to write code\n",
    "class1 inherited by class2,\n",
    "class2(parent class or super class) by class3(child or sub class)\n",
    "Most popular types of inheritance- single, multiple, multilevel"
   ]
  },
  {
   "cell_type": "code",
   "execution_count": 35,
   "id": "90bec0bc-78aa-430d-bde7-da2dbced177f",
   "metadata": {},
   "outputs": [
    {
     "name": "stdout",
     "output_type": "stream",
     "text": [
      "Buddy\n",
      "Bark\n"
     ]
    }
   ],
   "source": [
    "class Animal:\n",
    "    def __init__(self,name):\n",
    "        self.name=name\n",
    "        \n",
    "    def speak(self):\n",
    "        return 'Some Sound'\n",
    "        \n",
    "class Dog(Animal): #subclass, Animal is the superclass(in parenthesis)\n",
    "        def speak(self):\n",
    "            return 'Bark'\n",
    "# Creathing an object \n",
    "dog=Dog('Buddy')\n",
    "print(dog.name)\n",
    "print(dog.speak())#inherited dog from animal"
   ]
  },
  {
   "cell_type": "markdown",
   "id": "b0f5139e-8a64-491f-8466-926fea60d618",
   "metadata": {},
   "source": [
    "**Polymorphism**-poly(many),morphism(form/type)\n",
    "allows fxn method to have different meanings based on context\n",
    "also known as overriding/overloadingg"
   ]
  },
  {
   "cell_type": "code",
   "execution_count": 45,
   "id": "ca2e9689-e48e-4216-9b08-88415c6023a6",
   "metadata": {},
   "outputs": [
    {
     "name": "stdout",
     "output_type": "stream",
     "text": [
      "Squawk\n"
     ]
    }
   ],
   "source": [
    "class Bird:\n",
    "    def speak(self):\n",
    "        return 'Chirp'\n",
    "class Parrot(Bird):\n",
    "    def speak(self):\n",
    "        return 'Squawk'\n",
    "\n",
    "parrot= Parrot()\n",
    "print(parrot.speak()) #It has changed forms in the sub class, Chirp became Squawk"
   ]
  },
  {
   "cell_type": "markdown",
   "id": "1fb90d60-dc15-44be-9d13-1204d3fcddc8",
   "metadata": {},
   "source": [
    "**Encapsulation**-safety, capsulate something\n",
    "prevents direct access to data\n",
    "public/protected/private(has __ in the beginning)"
   ]
  },
  {
   "cell_type": "code",
   "execution_count": 49,
   "id": "72aed0bc-ddc1-4dfe-873a-efa7ede82368",
   "metadata": {},
   "outputs": [
    {
     "name": "stdout",
     "output_type": "stream",
     "text": [
      "1500\n"
     ]
    }
   ],
   "source": [
    "class BankAccount:\n",
    "    def __init__(self,balance):\n",
    "        self.__balance=balance #This is private (has __ at the beginning)\n",
    "    def deposit(self,amount):\n",
    "        self.__balance+=amount\n",
    "    def get_balance(self):#This is needed to access balance else the balance which is private will not be accessed\n",
    "        return self.__balance\n",
    "\n",
    "account=BankAccount(1000)\n",
    "account.deposit(500)\n",
    "print(account.get_balance())#The only way to get balance\n",
    "        "
   ]
  },
  {
   "cell_type": "markdown",
   "id": "6edb7235-bdb4-4c95-8c0c-e4f2b4783dce",
   "metadata": {},
   "source": [
    "**Abstraction**-hiding details,but gives summary, \n",
    "hide complex details and implementations"
   ]
  },
  {
   "cell_type": "code",
   "execution_count": 63,
   "id": "45742de1-86b9-4d4e-ac82-e866fb50328f",
   "metadata": {},
   "outputs": [
    {
     "name": "stdout",
     "output_type": "stream",
     "text": [
      "Car engine started\n"
     ]
    }
   ],
   "source": [
    "from abc import ABC, abstractmethod\n",
    "class Vehicle(ABC): #ABC-Abstract Base Class\n",
    "    @abstractmethod\n",
    "    def start_engine(self):\n",
    "        pass\n",
    "\n",
    "class Car(Vehicle):\n",
    "    def start_engine(self):\n",
    "        return 'Car engine started'\n",
    "\n",
    "my_car=Car()\n",
    "print(my_car.start_engine()) #the first part of the code class vehicle(ABC) has been hidden"
   ]
  },
  {
   "cell_type": "markdown",
   "id": "f08513d3-c030-4ee0-86bd-8aeda579530b",
   "metadata": {},
   "source": [
    "**Class**"
   ]
  },
  {
   "cell_type": "code",
   "execution_count": 3,
   "id": "94009577-724c-44a8-a424-515ce6837060",
   "metadata": {},
   "outputs": [
    {
     "name": "stdout",
     "output_type": "stream",
     "text": [
      "Red Toyota\n"
     ]
    }
   ],
   "source": [
    "class Car:\n",
    "    colour='Red'\n",
    "    brand='Toyota'\n",
    "    def show_details(self):\n",
    "        print(self.colour,self.brand)\n",
    "#How to make an object of this class\n",
    "my_car=Car() #my_car is an object of the class car\n",
    "my_car.show_details()"
   ]
  },
  {
   "cell_type": "markdown",
   "id": "3888fc8e-f5d7-4242-af60-007eb456b03b",
   "metadata": {},
   "source": [
    "**Creating a class without a constructor**"
   ]
  },
  {
   "cell_type": "code",
   "execution_count": 21,
   "id": "2377441b-02fe-45a4-9654-aa53b182e05b",
   "metadata": {},
   "outputs": [
    {
     "name": "stdout",
     "output_type": "stream",
     "text": [
      "Canine\n",
      "Woof!Woof!\n"
     ]
    }
   ],
   "source": [
    "class Dog:\n",
    "    species='Canine'#any obect of class dog will have a specie 'Canine'\n",
    "    def bark(self):#this is like defining a function\n",
    "        print('Woof!Woof!')#self is object\n",
    "dog1=Dog()#no construtor\n",
    "dog2=Dog()\n",
    "print(dog1.species)\n",
    "dog1.bark()"
   ]
  },
  {
   "cell_type": "markdown",
   "id": "e9186393-5326-4cfe-91a0-6dd863b0cf7d",
   "metadata": {},
   "source": [
    "**Creating classes with constructor** - own identity "
   ]
  },
  {
   "cell_type": "markdown",
   "id": "09359106-32b8-4ab3-8dd0-3d973ec8ac16",
   "metadata": {},
   "source": [
    "__init__()"
   ]
  },
  {
   "cell_type": "code",
   "execution_count": 23,
   "id": "3e7cb7e4-ff67-45f6-a694-f6a4338447f2",
   "metadata": {},
   "outputs": [
    {
     "name": "stdout",
     "output_type": "stream",
     "text": [
      "Car:Toyota Camry 2022\n",
      "Car:Tesla ModelS 2023\n"
     ]
    }
   ],
   "source": [
    "class Car:\n",
    "    def __init__(self,brand,model,year):#self neednt be specifically mentioned\n",
    "        self.brand=brand #instant variable\n",
    "        self.model=model\n",
    "        self.year=year\n",
    "#self takes object\n",
    "    def display_info(self):\n",
    "        print(f'Car:{self.brand} {self.model} {self.year}')\n",
    "\n",
    "#Creating Obects (instances of the class)\n",
    "car1=Car('Toyota','Camry',2022)\n",
    "car2=Car('Tesla','ModelS',2023)\n",
    "\n",
    "car1.display_info()\n",
    "car2.display_info()\n"
   ]
  },
  {
   "cell_type": "markdown",
   "id": "788d6397-5049-45d4-b9c8-2bbadab26ad3",
   "metadata": {},
   "source": [
    "**selfParameter**"
   ]
  },
  {
   "cell_type": "code",
   "execution_count": 27,
   "id": "232e0676-35da-42f9-9dc3-a47bcf8811b6",
   "metadata": {},
   "outputs": [
    {
     "name": "stdout",
     "output_type": "stream",
     "text": [
      "Buddy says Woof!\n"
     ]
    }
   ],
   "source": [
    "class Dog:\n",
    "    def __init__(self,name,breed):\n",
    "        self.name=name\n",
    "        self.breed=breed\n",
    "    def bark(self):\n",
    "        print(f'{self.name} says Woof!')\n",
    "#Creating an object\n",
    "dog1=Dog('Buddy','Golden Retreiver')\n",
    "dog1.bark()"
   ]
  },
  {
   "cell_type": "markdown",
   "id": "0c2cb160-a77d-4f91-9c49-0da61c2c89c1",
   "metadata": {},
   "source": [
    "**The__str__() method**"
   ]
  },
  {
   "cell_type": "code",
   "execution_count": 19,
   "id": "7fbd6b4a-2d08-4d7c-bda2-88fce42044be",
   "metadata": {},
   "outputs": [
    {
     "name": "stdout",
     "output_type": "stream",
     "text": [
      "1984 by George Orwell\n"
     ]
    }
   ],
   "source": [
    "class Book:\n",
    "    def __init__(self,title,author):\n",
    "        self.title=title\n",
    "        self.author=author\n",
    "    def __str__(self):\n",
    "        return(f'{self.title} by {self.author}')\n",
    "book1=Book(1984,'George Orwell')\n",
    "print(book1) #no need to call back the def"
   ]
  },
  {
   "cell_type": "markdown",
   "id": "4d7913c1-f917-453d-bda8-0117e5231788",
   "metadata": {},
   "source": [
    "**Class and Instance Variables**"
   ]
  },
  {
   "cell_type": "code",
   "execution_count": 29,
   "id": "85ef64b5-7ffa-43af-ae77-949763f131b5",
   "metadata": {},
   "outputs": [
    {
     "name": "stdout",
     "output_type": "stream",
     "text": [
      "CMI\n",
      "CMI\n",
      "IITM\n"
     ]
    }
   ],
   "source": [
    "class Student:\n",
    "    school='CMI'\n",
    "    def __init__(self,name,age):\n",
    "        self.name=name\n",
    "        self.age=age\n",
    "#Creating instances\n",
    "s1=Student('Alice',20)\n",
    "s2=Student('Bob',22)\n",
    "\n",
    "print(s1.school)\n",
    "print(s2.school)\n",
    "Student.school='IITM'\n",
    "print(s1.school)"
   ]
  }
 ],
 "metadata": {
  "kernelspec": {
   "name": "python3"
  },
  "language_info": {
   "codemirror_mode": {
    "name": "ipython",
    "version": 3
   },
   "file_extension": ".py",
   "mimetype": "text/x-python",
   "name": "python",
   "nbconvert_exporter": "python",
   "pygments_lexer": "ipython3",
   "version": "3.12.7"
  }
 },
 "nbformat": 4,
 "nbformat_minor": 5
}
